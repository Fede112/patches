{
 "cells": [
  {
   "cell_type": "code",
   "execution_count": 63,
   "metadata": {},
   "outputs": [],
   "source": [
    "import sys\n",
    "sys.path.insert(0,'/u/f/fbarone/Documents/TWO-NN')\n",
    "import os\n",
    "import numpy as np\n",
    "import matplotlib.pyplot as plt\n",
    "import id2nn"
   ]
  },
  {
   "cell_type": "code",
   "execution_count": 64,
   "metadata": {},
   "outputs": [
    {
     "name": "stdout",
     "output_type": "stream",
     "text": [
      "activations/dec_1.pkl\n"
     ]
    },
    {
     "name": "stderr",
     "output_type": "stream",
     "text": [
      "\r",
      "  0%|          | 0/1600 [00:00<?, ?it/s]"
     ]
    },
    {
     "name": "stdout",
     "output_type": "stream",
     "text": [
      "Start shuffle..\n",
      "Finished shuffle\n",
      "Start dist_mat\n"
     ]
    },
    {
     "name": "stderr",
     "output_type": "stream",
     "text": [
      "100%|██████████| 1600/1600 [01:03<00:00, 25.28it/s] \n",
      "  0%|          | 0/20 [00:00<?, ?it/s]"
     ]
    },
    {
     "name": "stdout",
     "output_type": "stream",
     "text": [
      "Finished dist_mat\n"
     ]
    },
    {
     "name": "stderr",
     "output_type": "stream",
     "text": [
      "100%|██████████| 20/20 [00:01<00:00, 16.96it/s]\n"
     ]
    },
    {
     "name": "stdout",
     "output_type": "stream",
     "text": [
      "activations/block_dec_1.pkl\n",
      "activations/dec_2.pkl\n",
      "Start shuffle..\n",
      "Finished shuffle\n",
      "Start dist_mat\n"
     ]
    },
    {
     "name": "stderr",
     "output_type": "stream",
     "text": [
      "100%|██████████| 1600/1600 [01:48<00:00, 14.74it/s] \n",
      "  0%|          | 0/20 [00:00<?, ?it/s]"
     ]
    },
    {
     "name": "stdout",
     "output_type": "stream",
     "text": [
      "Finished dist_mat\n"
     ]
    },
    {
     "name": "stderr",
     "output_type": "stream",
     "text": [
      "100%|██████████| 20/20 [00:01<00:00, 16.69it/s]\n"
     ]
    },
    {
     "name": "stdout",
     "output_type": "stream",
     "text": [
      "activations/block_dec_2.pkl\n",
      "activations/dec_3.pkl\n",
      "Start shuffle..\n",
      "Finished shuffle\n",
      "Start dist_mat\n"
     ]
    },
    {
     "name": "stderr",
     "output_type": "stream",
     "text": [
      "100%|██████████| 1600/1600 [03:15<00:00,  8.17it/s] \n",
      "  0%|          | 0/20 [00:00<?, ?it/s]"
     ]
    },
    {
     "name": "stdout",
     "output_type": "stream",
     "text": [
      "Finished dist_mat\n"
     ]
    },
    {
     "name": "stderr",
     "output_type": "stream",
     "text": [
      "100%|██████████| 20/20 [00:01<00:00, 15.65it/s]\n"
     ]
    },
    {
     "name": "stdout",
     "output_type": "stream",
     "text": [
      "activations/block_dec_3.pkl\n",
      "activations/dec_4.pkl\n",
      "Start shuffle..\n",
      "Finished shuffle\n",
      "Start dist_mat\n"
     ]
    },
    {
     "name": "stderr",
     "output_type": "stream",
     "text": [
      "100%|██████████| 1600/1600 [05:59<00:00,  4.45it/s]\n",
      "  0%|          | 0/20 [00:00<?, ?it/s]"
     ]
    },
    {
     "name": "stdout",
     "output_type": "stream",
     "text": [
      "Finished dist_mat\n"
     ]
    },
    {
     "name": "stderr",
     "output_type": "stream",
     "text": [
      "100%|██████████| 20/20 [00:01<00:00, 15.49it/s]\n"
     ]
    },
    {
     "name": "stdout",
     "output_type": "stream",
     "text": [
      "activations/block_dec_4.pkl\n",
      "activations/dec_5.pkl\n",
      "Start shuffle..\n",
      "Finished shuffle\n",
      "Start dist_mat\n"
     ]
    },
    {
     "name": "stderr",
     "output_type": "stream",
     "text": [
      "100%|██████████| 1600/1600 [07:43<00:00,  3.46it/s]\n",
      "  0%|          | 0/20 [00:00<?, ?it/s]"
     ]
    },
    {
     "name": "stdout",
     "output_type": "stream",
     "text": [
      "Finished dist_mat\n"
     ]
    },
    {
     "name": "stderr",
     "output_type": "stream",
     "text": [
      "100%|██████████| 20/20 [00:01<00:00, 16.83it/s]\n"
     ]
    },
    {
     "name": "stdout",
     "output_type": "stream",
     "text": [
      "activations/block_dec_5.pkl\n",
      "activations/pca.pkl\n"
     ]
    },
    {
     "name": "stderr",
     "output_type": "stream",
     "text": [
      "  0%|          | 6/1600 [00:00<00:28, 56.92it/s]"
     ]
    },
    {
     "name": "stdout",
     "output_type": "stream",
     "text": [
      "Start shuffle..\n",
      "Finished shuffle\n",
      "Start dist_mat\n"
     ]
    },
    {
     "name": "stderr",
     "output_type": "stream",
     "text": [
      "100%|██████████| 1600/1600 [00:12<00:00, 124.67it/s]\n",
      "  0%|          | 0/20 [00:00<?, ?it/s]"
     ]
    },
    {
     "name": "stdout",
     "output_type": "stream",
     "text": [
      "Finished dist_mat\n"
     ]
    },
    {
     "name": "stderr",
     "output_type": "stream",
     "text": [
      "100%|██████████| 20/20 [00:01<00:00, 17.13it/s]"
     ]
    },
    {
     "name": "stdout",
     "output_type": "stream",
     "text": [
      "activations/block_pca.pkl\n"
     ]
    },
    {
     "name": "stderr",
     "output_type": "stream",
     "text": [
      "\n"
     ]
    }
   ],
   "source": [
    "# Decoder block analysis\n",
    "\n",
    "for act in os.listdir('./activations'):\n",
    "    act_path = os.path.join('activations', act)\n",
    "    print(act_path)\n",
    "    with open(act_path, 'rb') as f:\n",
    "        features = np.load(f)\n",
    "\n",
    "    np.random.seed(10)\n",
    "\n",
    "    # dim, mu, mu_cs = two_nn_id(data, 0.9)\n",
    "\n",
    "    blocks_dim, blocks_dim_std, blocks_size, d_mat2 = id2nn.two_nn_block_analysis(features, .9, shuffle = True)\n",
    "\n",
    "    # print(len(blocks_dim))\n",
    "    # # print(len(blocks_dim_std))\n",
    "\n",
    "    block_path = os.path.join('activations', 'block_' + act)\n",
    "    print(block_path)\n",
    "    with open(block_path, 'w') as file: \n",
    "        blocks_dim = np.array(blocks_dim)[:,None]\n",
    "        blocks_dim_std = np.array(blocks_dim_std)[:,None]\n",
    "        blocks = np.hstack((blocks_dim, blocks_dim_std))\n",
    "        np.savetxt(file, blocks)\n"
   ]
  },
  {
   "cell_type": "code",
   "execution_count": 69,
   "metadata": {},
   "outputs": [
    {
     "name": "stdout",
     "output_type": "stream",
     "text": [
      "activations/encoder/enc_1.pkl\n",
      "Start shuffle..\n",
      "Finished shuffle\n",
      "Start dist_mat\n"
     ]
    },
    {
     "name": "stderr",
     "output_type": "stream",
     "text": [
      "100%|██████████| 1600/1600 [07:34<00:00,  3.52it/s]\n",
      "  0%|          | 0/20 [00:00<?, ?it/s]"
     ]
    },
    {
     "name": "stdout",
     "output_type": "stream",
     "text": [
      "Finished dist_mat\n"
     ]
    },
    {
     "name": "stderr",
     "output_type": "stream",
     "text": [
      "100%|██████████| 20/20 [00:01<00:00, 17.08it/s]\n"
     ]
    },
    {
     "name": "stdout",
     "output_type": "stream",
     "text": [
      "activations/block_enc_1.pkl\n",
      "activations/encoder/enc_2.pkl\n",
      "Start shuffle..\n",
      "Finished shuffle\n",
      "Start dist_mat\n"
     ]
    },
    {
     "name": "stderr",
     "output_type": "stream",
     "text": [
      "100%|██████████| 1600/1600 [05:56<00:00,  4.49it/s]\n",
      "  0%|          | 0/20 [00:00<?, ?it/s]"
     ]
    },
    {
     "name": "stdout",
     "output_type": "stream",
     "text": [
      "Finished dist_mat\n"
     ]
    },
    {
     "name": "stderr",
     "output_type": "stream",
     "text": [
      "100%|██████████| 20/20 [00:01<00:00, 15.77it/s]\n"
     ]
    },
    {
     "name": "stdout",
     "output_type": "stream",
     "text": [
      "activations/block_enc_2.pkl\n",
      "activations/encoder/enc_3.pkl\n",
      "Start shuffle..\n",
      "Finished shuffle\n",
      "Start dist_mat\n"
     ]
    },
    {
     "name": "stderr",
     "output_type": "stream",
     "text": [
      "100%|██████████| 1600/1600 [03:13<00:00,  8.26it/s] \n",
      "  0%|          | 0/20 [00:00<?, ?it/s]"
     ]
    },
    {
     "name": "stdout",
     "output_type": "stream",
     "text": [
      "Finished dist_mat\n"
     ]
    },
    {
     "name": "stderr",
     "output_type": "stream",
     "text": [
      "100%|██████████| 20/20 [00:01<00:00, 17.05it/s]\n"
     ]
    },
    {
     "name": "stdout",
     "output_type": "stream",
     "text": [
      "activations/block_enc_3.pkl\n",
      "activations/encoder/enc_4.pkl\n",
      "Start shuffle..\n",
      "Finished shuffle\n",
      "Start dist_mat\n"
     ]
    },
    {
     "name": "stderr",
     "output_type": "stream",
     "text": [
      "100%|██████████| 1600/1600 [01:50<00:00, 14.53it/s] \n",
      "  0%|          | 0/20 [00:00<?, ?it/s]"
     ]
    },
    {
     "name": "stdout",
     "output_type": "stream",
     "text": [
      "Finished dist_mat\n"
     ]
    },
    {
     "name": "stderr",
     "output_type": "stream",
     "text": [
      "100%|██████████| 20/20 [00:01<00:00, 16.59it/s]\n"
     ]
    },
    {
     "name": "stdout",
     "output_type": "stream",
     "text": [
      "activations/block_enc_4.pkl\n",
      "activations/encoder/enc_5.pkl\n"
     ]
    },
    {
     "name": "stderr",
     "output_type": "stream",
     "text": [
      "\r",
      "  0%|          | 0/1600 [00:00<?, ?it/s]"
     ]
    },
    {
     "name": "stdout",
     "output_type": "stream",
     "text": [
      "Start shuffle..\n",
      "Finished shuffle\n",
      "Start dist_mat\n"
     ]
    },
    {
     "name": "stderr",
     "output_type": "stream",
     "text": [
      "100%|██████████| 1600/1600 [01:02<00:00, 25.42it/s] \n",
      "  0%|          | 0/20 [00:00<?, ?it/s]"
     ]
    },
    {
     "name": "stdout",
     "output_type": "stream",
     "text": [
      "Finished dist_mat\n"
     ]
    },
    {
     "name": "stderr",
     "output_type": "stream",
     "text": [
      "100%|██████████| 20/20 [00:01<00:00, 15.98it/s]"
     ]
    },
    {
     "name": "stdout",
     "output_type": "stream",
     "text": [
      "activations/block_enc_5.pkl\n"
     ]
    },
    {
     "name": "stderr",
     "output_type": "stream",
     "text": [
      "\n"
     ]
    }
   ],
   "source": [
    "# Encoder block activation\n",
    "\n",
    "for act in os.listdir('/u/f/fbarone/Documents/patches/cae/activations/encoder'):\n",
    "    act_path = os.path.join('activations/encoder', act)\n",
    "    print(act_path)\n",
    "    with open(act_path, 'rb') as f:\n",
    "        features = np.load(f)\n",
    "        \n",
    "\n",
    "    np.random.seed(10)\n",
    "\n",
    "    # dim, mu, mu_cs = two_nn_id(data, 0.9)\n",
    "\n",
    "    blocks_dim, blocks_dim_std, blocks_size, d_mat2 = id2nn.two_nn_block_analysis(features, .9, shuffle = True)\n",
    "\n",
    "    # print(len(blocks_dim))\n",
    "    # # print(len(blocks_dim_std))\n",
    "\n",
    "    block_path = os.path.join('activations', 'block_' + act)\n",
    "    print(block_path)\n",
    "    with open(block_path, 'w') as file: \n",
    "        blocks_dim = np.array(blocks_dim)[:,None]\n",
    "        blocks_dim_std = np.array(blocks_dim_std)[:,None]\n",
    "        blocks = np.hstack((blocks_dim, blocks_dim_std))\n",
    "        np.savetxt(file, blocks)"
   ]
  },
  {
   "cell_type": "code",
   "execution_count": 70,
   "metadata": {},
   "outputs": [
    {
     "data": {
      "text/plain": [
       "<matplotlib.legend.Legend at 0x7fbcb431f0f0>"
      ]
     },
     "execution_count": 70,
     "metadata": {},
     "output_type": "execute_result"
    },
    {
     "data": {
      "image/png": "[encoded data removed]",
      "text/plain": [
       "<Figure size 720x720 with 1 Axes>"
      ]
     },
     "metadata": {
      "needs_background": "light"
     },
     "output_type": "display_data"
    }
   ],
   "source": [
    "fig = plt.figure(figsize = (10,10))\n",
    "ax = fig.add_subplot(1,1,1)\n",
    "for act in os.listdir('./activations'):\n",
    "    if 'block' in act:\n",
    "        with open('./activations/' + act, 'r') as f:\n",
    "            blocks = np.loadtxt(f)\n",
    "#             ax.plot(blocks_size, blocks[:,0], \"r.-\")\n",
    "            ax.errorbar(blocks_size, blocks[:,0], yerr = np.array(blocks[:,1]), label = act)\n",
    "    \n",
    "ax.legend()\n",
    "        "
   ]
  },
  {
   "cell_type": "code",
   "execution_count": 95,
   "metadata": {},
   "outputs": [
    {
     "name": "stdout",
     "output_type": "stream",
     "text": [
      "['encoder', 'block_enc_1.pkl', 'block_enc_2.pkl', 'block_enc_3.pkl', 'block_enc_4.pkl', 'block_enc_5.pkl', 'block_dec_1.pkl', 'block_dec_2.pkl', 'block_dec_3.pkl', 'block_dec_4.pkl', 'block_dec_5.pkl', 'block_pca.pkl', 'decoder']\n",
      "[27.99895247 27.27656463 26.35545061]\n",
      "[25.99984182 24.79189439 24.21690098]\n",
      "[29.68726237 29.45511134 28.36417184]\n",
      "[32.48635665 31.26666227 29.83288275]\n",
      "[45.9695551  43.25547589 41.38990146]\n",
      "[34.45555224 30.93449571 31.82057681]\n"
     ]
    }
   ],
   "source": [
    "enc_id = [] \n",
    "dec_id = []\n",
    "pca_id = []\n",
    "print(os.listdir('./activations'))\n",
    "for act in os.listdir('./activations'):\n",
    "    if 'block' in act:\n",
    "        with open('./activations/' + act, 'r') as f:\n",
    "            blocks = np.loadtxt(f)\n",
    "            if 'enc' in act:\n",
    "                print(blocks[:3,0])\n",
    "                enc_id.append(np.mean(blocks[:3,0]))\n",
    "    #             ax.plot(blocks_size, blocks[:,0], \"r.-\")\n",
    "            if 'dec' in act:\n",
    "                dec_id.append(np.mean(blocks[:3,0]))\n",
    "#             ax.errorbar(blocks_size, blocks[:,0], yerr = np.array(blocks[:,1]), label = act)\n",
    "            if 'pca' in act:\n",
    "                print(blocks[:3,0])\n",
    "                pca_id.append(np.mean(blocks[:3,0]))\n",
    "    #       \n",
    "            "
   ]
  },
  {
   "cell_type": "code",
   "execution_count": 110,
   "metadata": {},
   "outputs": [
    {
     "data": {
      "image/png": "[encoded data removed]",
      "text/plain": [
       "<Figure size 792x576 with 1 Axes>"
      ]
     },
     "metadata": {
      "needs_background": "light"
     },
     "output_type": "display_data"
    }
   ],
   "source": [
    "enc_x = np.arange(len(enc_id))\n",
    "pca_x = np.arange(len(enc_id), len(enc_id)+1 )\n",
    "dec_x = np.arange(len(enc_id)+1,len(enc_id) + len(dec_id) + 1)\n",
    "plt.scatter(enc_x, np.array(enc_id))\n",
    "plt.scatter(dec_x, np.array(dec_id))\n",
    "plt.scatter(pca_x, pca_id, c='r')\n",
    "plt.xlabel('Layer count')\n",
    "plt.ylabel('ID')\n",
    "\n",
    "enc_txt = ['262144', '131072', '65536', '32768', '16384']\n",
    "pca_txt = ['1024']\n",
    "dec_txt = ['16384', '32768', '65536', '131072','262144']\n",
    "\n",
    "for i, txt in enumerate(enc_txt):\n",
    "    plt.annotate(txt, (enc_x[i], enc_id[i]))\n",
    "    \n",
    "for i, txt in enumerate(dec_txt):\n",
    "    plt.annotate(txt, (dec_x[i], dec_id[i]))\n",
    "\n",
    "for i, txt in enumerate(pca_txt):\n",
    "    plt.annotate(txt, (pca_x[i], pca_id[i]))\n",
    "\n",
    "fig = plt.gcf()\n",
    "fig.set_size_inches(11,8)"
   ]
  },
  {
   "cell_type": "code",
   "execution_count": null,
   "metadata": {},
   "outputs": [],
   "source": [
    "enc_x = np.arange(len(enc_id))\n",
    "pca_x = np.arange(len(enc_id), len(enc_id)+1 )\n",
    "dec_x = np.arange(len(enc_id)+1,len(enc_id) + len(dec_id) + 1)\n",
    "plt.plot(enc_x, np.array(enc_id), '-o')\n",
    "plt.plot(dec_x, np.array(dec_id), '-o')\n",
    "plt.plot(pca_x, pca_id, '-o', c='r')\n",
    "plt.xlabel('Layer count')\n",
    "plt.ylabel('ID')\n",
    "\n",
    "enc_txt = ['262144', '131072', '65536', '32768', '16384']\n",
    "pca_txt = ['1024']\n",
    "dec_txt = ['16384', '32768', '65536', '131072','262144']\n",
    "\n",
    "for i, txt in enumerate(enc_txt):\n",
    "    plt.annotate(txt, (enc_x[i], enc_id[i]))\n",
    "    \n",
    "for i, txt in enumerate(dec_txt):\n",
    "    plt.annotate(txt, (dec_x[i], dec_id[i]))\n",
    "\n",
    "for i, txt in enumerate(pca_txt):\n",
    "    plt.annotate(txt, (pca_x[i], pca_id[i]))\n"
   ]
  }
 ],
 "metadata": {
  "kernelspec": {
   "display_name": "Python 3",
   "language": "python",
   "name": "python3"
  },
  "language_info": {
   "codemirror_mode": {
    "name": "ipython",
    "version": 3
   },
   "file_extension": ".py",
   "mimetype": "text/x-python",
   "name": "python",
   "nbconvert_exporter": "python",
   "pygments_lexer": "ipython3",
   "version": "3.7.3"
  }
 },
 "nbformat": 4,
 "nbformat_minor": 2
}
