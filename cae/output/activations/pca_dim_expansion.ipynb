{
 "cells": [
  {
   "cell_type": "markdown",
   "metadata": {},
   "source": [
    "## PCA dim expansion"
   ]
  },
  {
   "cell_type": "code",
   "execution_count": 1,
   "metadata": {},
   "outputs": [],
   "source": [
    "import numpy as np\n",
    "import math\n",
    "import pickle\n",
    "from numpy import linalg as LA\n",
    "from numpy import cov\n",
    "from sklearn import preprocessing\n",
    "from sklearn.decomposition import PCA\n",
    "import matplotlib.pyplot as plt"
   ]
  },
  {
   "cell_type": "code",
   "execution_count": 2,
   "metadata": {},
   "outputs": [],
   "source": [
    "# we load the hidden space extracted from network\n",
    "coding_filepath = 'coding_Average_CAE_deep-256x8x8.pkl'\n",
    "coding_act = np.load(coding_filepath)"
   ]
  },
  {
   "cell_type": "code",
   "execution_count": 3,
   "metadata": {},
   "outputs": [
    {
     "data": {
      "text/plain": [
       "(6400, 16384)"
      ]
     },
     "execution_count": 3,
     "metadata": {},
     "output_type": "execute_result"
    }
   ],
   "source": [
    "# flatten the feature maps\n",
    "coding_act_flat = coding_act.reshape(6400, -1)\n",
    "coding_act_flat.shape"
   ]
  },
  {
   "cell_type": "code",
   "execution_count": 4,
   "metadata": {},
   "outputs": [
    {
     "name": "stdout",
     "output_type": "stream",
     "text": [
      "features shape before(6400, 16384)\n",
      "980\n",
      "features shape after(6400, 980)\n"
     ]
    }
   ],
   "source": [
    "# PCA on the feature space\n",
    "num_components = 100\n",
    "\n",
    "x = coding_act_flat\n",
    "\n",
    "print(f'features shape before{x.shape}')\n",
    "\n",
    "x_mean = np.mean(x, axis=0)\n",
    "x_centered = x - x_mean\n",
    "\n",
    "# Using scipy package\n",
    "# percentage of variance explained: PCA(0.95)\n",
    "pca = PCA(0.99)\n",
    "# can also use: PCA(n_components=2)\n",
    "x_trans = pca.fit_transform(x_centered)\n",
    "# pca.explained_variance_ are the eigenvalues\n",
    "eigenvalues = pca.explained_variance_ \n",
    "print(len(eigenvalues))\n",
    "# pca.components_ are the eigenvectors\n",
    "# print(pca.components_[1,:])\n",
    "\n",
    "print(f'features shape after{x_trans.shape}')\n",
    "\n"
   ]
  },
  {
   "cell_type": "code",
   "execution_count": 5,
   "metadata": {},
   "outputs": [
    {
     "data": {
      "image/png": "[encoded data removed]",
      "text/plain": [
       "<Figure size 432x288 with 1 Axes>"
      ]
     },
     "metadata": {
      "needs_background": "light"
     },
     "output_type": "display_data"
    }
   ],
   "source": [
    "# Plot eigenvalues \n",
    "plt.plot(eigenvalues, '.')\n",
    "plt.ylabel('Eigenvalue $(\\lambda)$')\n",
    "plt.xlabel('$\\lambda$ number')\n",
    "# plt.ylim([0,1])\n",
    "plt.show()"
   ]
  },
  {
   "cell_type": "code",
   "execution_count": 6,
   "metadata": {},
   "outputs": [
    {
     "name": "stdout",
     "output_type": "stream",
     "text": [
      "[[0.07997368 0.         0.         ... 0.         0.         0.        ]\n",
      " [0.         0.11514249 0.         ... 0.         0.         0.        ]\n",
      " [0.         0.         0.13705863 ... 0.         0.         0.        ]\n",
      " ...\n",
      " [0.         0.         0.         ... 1.         0.         0.        ]\n",
      " [0.         0.         0.         ... 0.         1.         0.        ]\n",
      " [0.         0.         0.         ... 0.         0.         1.        ]]\n"
     ]
    }
   ],
   "source": [
    "# Rescale the dataset in the PC space\n",
    "\n",
    "# sqrt of eigenvalues because Cov = X.T@X, so you need to rescale X by sqrt(eigenval)\n",
    "rescale = np.diag( np.concatenate( (1./np.sqrt(eigenvalues[:300]), np.ones(680)) ) )\n",
    "\n",
    "print(rescale[:400, :400])\n",
    "\n",
    "x_rescale_trans = x_trans@rescale"
   ]
  },
  {
   "cell_type": "code",
   "execution_count": 7,
   "metadata": {},
   "outputs": [],
   "source": [
    "# Transform back\n",
    "x_rescale = x_rescale_trans@pca.components_"
   ]
  },
  {
   "cell_type": "code",
   "execution_count": 8,
   "metadata": {},
   "outputs": [
    {
     "name": "stdout",
     "output_type": "stream",
     "text": [
      "features shape before(6400, 16384)\n",
      "763\n",
      "features shape after(6400, 763)\n"
     ]
    },
    {
     "data": {
      "image/png": "[encoded data removed]",
      "text/plain": [
       "<Figure size 432x288 with 1 Axes>"
      ]
     },
     "metadata": {
      "needs_background": "light"
     },
     "output_type": "display_data"
    }
   ],
   "source": [
    "# Do PCA ones again on x_rescale\n",
    "print(f'features shape before{x_rescale.shape}')\n",
    "\n",
    "# print(features.shape)\n",
    "# features_ts = scaler.fit_transform(features)\n",
    "x_centered = x_rescale\n",
    "\n",
    "# Using scipy package\n",
    "\n",
    "# percentage of variance explained: PCA(0.95)\n",
    "# can also use: PCA(n_components=2)\n",
    "pca_return = PCA(0.99)\n",
    "x_centered = pca_return.fit_transform(x_centered)\n",
    "# pca_return.explained_variance_ are the eigenvalues\n",
    "eigenvalues_return = pca_return.explained_variance_ \n",
    "print(len(eigenvalues_return))\n",
    "# pca_return.components_ are the eigenvectors\n",
    "# print(pca_return.components_[1,:])\n",
    "\n",
    "print(f'features shape after{x_centered.shape}')\n",
    "\n",
    "# Plot eigenvalues_return \n",
    "plt.plot(eigenvalues_return, '.')\n",
    "plt.ylabel('Eigenvalue $(\\lambda)$')\n",
    "plt.xlabel('$\\lambda$ number')\n",
    "plt.show()"
   ]
  },
  {
   "cell_type": "code",
   "execution_count": null,
   "metadata": {},
   "outputs": [],
   "source": [
    "# add rescaled mean to x_rescale (?)"
   ]
  }
 ],
 "metadata": {
  "kernelspec": {
   "display_name": "Python 3",
   "language": "python",
   "name": "python3"
  },
  "language_info": {
   "codemirror_mode": {
    "name": "ipython",
    "version": 3
   },
   "file_extension": ".py",
   "mimetype": "text/x-python",
   "name": "python",
   "nbconvert_exporter": "python",
   "pygments_lexer": "ipython3",
   "version": "3.7.3"
  }
 },
 "nbformat": 4,
 "nbformat_minor": 2
}
