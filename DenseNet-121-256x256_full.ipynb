{
 "cells": [
  {
   "cell_type": "code",
   "execution_count": null,
   "metadata": {},
   "outputs": [],
   "source": [
    "%load_ext autoreload\n",
    "%autoreload 2"
   ]
  },
  {
   "cell_type": "markdown",
   "metadata": {},
   "source": [
    "# Densenet-121-256x256 - Full\n",
    "\n",
    "This notebook was build to extract features from a DenseNet-121 trained to identify the presence of malign or bening lesions in patches of size 256x256. The patches are subsamples of full size mammographies, as the ones we are using to feed the generative models.\n",
    "\n",
    "The features are extracted at the end of the feature section of DenseNet, before the linear classifier.\n",
    "\n",
    "**Some details of DenseNet-121:**\n",
    "* Four denseblocks with (6, 12, 24, 16)x2 conv layers respectively. The x2 is because it has a Conv1x1 and Conv3x3.\n",
    "* Three transition layers with one conv layer each.\n",
    "* One input and one output layer. (still need to check this)\n",
    "* Final layer count: (6 + 12 + 24 + 16)x2 + 5 = 121"
   ]
  },
  {
   "cell_type": "code",
   "execution_count": 2,
   "metadata": {},
   "outputs": [],
   "source": [
    "import sys\n",
    "sys.path.insert(0,'/u/f/fbarone/Documents/breast_cancer_classifier')\n",
    "\n",
    "import numpy as np\n",
    "import random\n",
    "import imageio\n",
    "import os\n",
    "import argparse\n",
    "import tqdm\n",
    "import matplotlib.pyplot as plt\n",
    "\n",
    "import torch\n",
    "import torch.nn.functional as F\n",
    "\n",
    "from torch.utils.data import DataLoader, Dataset\n",
    "from torch.utils.data.sampler import SubsetRandomSampler\n",
    "\n",
    "from torchvision import models, transforms\n",
    "from torchvision import transforms, utils\n",
    "from torchvision import datasets\n",
    "\n",
    "import os,sys\n",
    "\n",
    "from mm_patch.data import PatchesDataset\n",
    "import mm_patch.transforms\n",
    "\n",
    "\n",
    "# NYU breast cancer scripts\n",
    "import src.heatmaps.models as models\n",
    "import src.heatmaps.run_producer as run"
   ]
  },
  {
   "cell_type": "code",
   "execution_count": null,
   "metadata": {},
   "outputs": [],
   "source": [
    "# Transformations to be compatible with Densenet-121 from NYU paper.\n",
    "# Note I am using mean and std as recommended in Pytorch. Maybe calculating the dataset statistics is better.\n",
    "composed = transforms.Compose([ \n",
    "#                                 mm_patch.transforms.ToImage(),\n",
    "                                transforms.ToTensor(),\n",
    "                                mm_patch.transforms.Scale(),\n",
    "                                mm_patch.transforms.GrayToRGB(),\n",
    "                                transforms.Normalize(mean=[0.485, 0.456, 0.406], std=[0.229, 0.224, 0.225])\n",
    "                            ])"
   ]
  },
  {
   "cell_type": "code",
   "execution_count": null,
   "metadata": {},
   "outputs": [],
   "source": [
    "def read_image_png(file_name):\n",
    "    image = np.array(imageio.imread(file_name)).astype(np.int32)\n",
    "    return image\n",
    "\n",
    "patches = datasets.ImageFolder('../patches_images/patches_CRO_23072019/', transform=composed, target_transform=None, loader=read_image_png)"
   ]
  },
  {
   "cell_type": "code",
   "execution_count": null,
   "metadata": {},
   "outputs": [],
   "source": [
    "patches[1]"
   ]
  },
  {
   "cell_type": "code",
   "execution_count": null,
   "metadata": {},
   "outputs": [],
   "source": [
    "# # Set dataset\n",
    "# patches = PatchesDataset(data_path='./patches_256x256.pkl', transform = composed)\n",
    "\n",
    "# Dataloader parameters\n",
    "batch_size = 10\n",
    "validation_split = .2\n",
    "shuffle_dataset = True\n",
    "random_seed= 42\n",
    "\n",
    "# Creating data indices for training and validation splits:\n",
    "dataset_size = len(patches)\n",
    "indices = list(range(dataset_size))\n",
    "split = int(np.floor(validation_split * dataset_size))\n",
    "if shuffle_dataset :\n",
    "    np.random.seed(random_seed)\n",
    "    np.random.shuffle(indices)\n",
    "train_indices, val_indices = indices[split:], indices[:split]\n",
    "\n",
    "# Creating PT data samplers and loaders:\n",
    "train_sampler = SubsetRandomSampler(train_indices)\n",
    "valid_sampler = SubsetRandomSampler(val_indices)\n",
    "\n",
    "# this train loader is to have random access\n",
    "loader = torch.utils.data.DataLoader(patches, batch_size=batch_size, \n",
    "                                            num_workers=10)\n",
    "train_loader = torch.utils.data.DataLoader(patches, batch_size=batch_size, \n",
    "                                           sampler=train_sampler, num_workers=10)\n",
    "validation_loader = torch.utils.data.DataLoader(patches, batch_size=batch_size,\n",
    "                                                sampler=valid_sampler, num_workers=10)"
   ]
  },
  {
   "cell_type": "markdown",
   "metadata": {},
   "source": [
    "## Densenet-121 Model \n",
    "We have to load the model parameters from the NYU breast_cancer_classifier github: \n",
    "'./models/sample_patch_model.p'"
   ]
  },
  {
   "cell_type": "code",
   "execution_count": null,
   "metadata": {},
   "outputs": [],
   "source": [
    "parameters = {}\n",
    "\n",
    "parameters['device_type'] = \"cpu\"\n",
    "parameters['gpu_number'] = 0\n",
    "# number of classes of Densenet classifier (it is not the same as dense/venous!)\n",
    "parameters['number_of_classes'] = 4\n",
    "parameters['initial_parameters'] = '/u/f/fbarone/Documents/breast_cancer_classifier/models/sample_patch_model.p'\n",
    "\n",
    "model, device = run.load_model(parameters)"
   ]
  },
  {
   "cell_type": "code",
   "execution_count": 1,
   "metadata": {},
   "outputs": [
    {
     "ename": "NameError",
     "evalue": "name 'model' is not defined",
     "output_type": "error",
     "traceback": [
      "\u001b[0;31m---------------------------------------------------------------------------\u001b[0m",
      "\u001b[0;31mNameError\u001b[0m                                 Traceback (most recent call last)",
      "\u001b[0;32m<ipython-input-1-6a2ec4a6c04d>\u001b[0m in \u001b[0;36m<module>\u001b[0;34m\u001b[0m\n\u001b[1;32m      1\u001b[0m \u001b[0;32mfrom\u001b[0m \u001b[0mtorchsummary\u001b[0m \u001b[0;32mimport\u001b[0m \u001b[0msummary\u001b[0m\u001b[0;34m\u001b[0m\u001b[0;34m\u001b[0m\u001b[0m\n\u001b[1;32m      2\u001b[0m \u001b[0;31m# summary(your_model, input_size=(channels, H, W))\u001b[0m\u001b[0;34m\u001b[0m\u001b[0;34m\u001b[0m\u001b[0;34m\u001b[0m\u001b[0m\n\u001b[0;32m----> 3\u001b[0;31m \u001b[0msummary\u001b[0m\u001b[0;34m(\u001b[0m\u001b[0mmodel\u001b[0m\u001b[0;34m,\u001b[0m \u001b[0minput_size\u001b[0m\u001b[0;34m=\u001b[0m\u001b[0;34m(\u001b[0m\u001b[0;36m3\u001b[0m\u001b[0;34m,\u001b[0m \u001b[0;36m256\u001b[0m\u001b[0;34m,\u001b[0m \u001b[0;36m256\u001b[0m\u001b[0;34m)\u001b[0m\u001b[0;34m,\u001b[0m \u001b[0mdevice\u001b[0m \u001b[0;34m=\u001b[0m \u001b[0;34m'cpu'\u001b[0m\u001b[0;34m)\u001b[0m\u001b[0;34m\u001b[0m\u001b[0;34m\u001b[0m\u001b[0m\n\u001b[0m",
      "\u001b[0;31mNameError\u001b[0m: name 'model' is not defined"
     ]
    }
   ],
   "source": [
    "from torchsummary import summary\n",
    "# summary(your_model, input_size=(channels, H, W))\n",
    "summary(model, input_size=(3, 256, 256))"
   ]
  },
  {
   "cell_type": "code",
   "execution_count": null,
   "metadata": {},
   "outputs": [],
   "source": [
    "# Easy way of checking layer names (you have to be careful because names are not exactly the same)\n",
    "# model.state_dict().keys()"
   ]
  },
  {
   "cell_type": "code",
   "execution_count": null,
   "metadata": {},
   "outputs": [],
   "source": [
    "batch = next(iter(loader))\n",
    "batch[0].shape"
   ]
  },
  {
   "cell_type": "markdown",
   "metadata": {},
   "source": [
    "## Set up hooks"
   ]
  },
  {
   "cell_type": "code",
   "execution_count": null,
   "metadata": {},
   "outputs": [],
   "source": [
    "# get activations\n",
    "def get_activation(layer_dict, name):\n",
    "    \"\"\"\n",
    "    Define hook to extract intermediate layer features\n",
    "    \"\"\"\n",
    "    def hook(model, input, output):\n",
    "        layer_dict[name].append(output.detach())\n",
    "        # layer_dict[name] = torch.cat(layer_dict[name], output.detach())\n",
    "    return hook\n",
    "\n",
    "\n",
    "# get activations densenet\n",
    "def get_activation_densenet(layer_dict, name, batch_size):\n",
    "    \"\"\"\n",
    "    Define hook to extract intermediate layer features\n",
    "    \"\"\"\n",
    "    def hook(model, input, output):\n",
    "        output = F.adaptive_avg_pool2d(output.detach(), (1, 1)).view(batch_size, -1)\n",
    "#         print(output.shape)\n",
    "        layer_dict[name].append(output)\n",
    "        # layer_dict[name] = torch.cat(layer_dict[name], output.detach())\n",
    "    return hook"
   ]
  },
  {
   "cell_type": "code",
   "execution_count": null,
   "metadata": {},
   "outputs": [],
   "source": [
    "# register hook\n",
    "activations = {'norm5': []}\n",
    "handle_linear = model.densenet.features.norm5.register_forward_hook(get_activation_densenet(activations, 'norm5', batch_size))"
   ]
  },
  {
   "cell_type": "code",
   "execution_count": null,
   "metadata": {},
   "outputs": [],
   "source": [
    "from tqdm import tqdm as tqdm\n",
    "with torch.no_grad():\n",
    "#     output = [(densenet(batch['patch']), batch['target']) for batch in loader]\n",
    "        output = [F.softmax(model(torch.FloatTensor(batch[0]).to(device)), dim=1).cpu().detach().numpy() \n",
    "                  for batch in tqdm(loader)]\n"
   ]
  },
  {
   "cell_type": "code",
   "execution_count": null,
   "metadata": {},
   "outputs": [],
   "source": [
    "features = torch.cat(activations['norm5'], 0)\n",
    "features.shape"
   ]
  },
  {
   "cell_type": "markdown",
   "metadata": {},
   "source": [
    "### Save features"
   ]
  },
  {
   "cell_type": "code",
   "execution_count": null,
   "metadata": {},
   "outputs": [],
   "source": [
    "# # print(features.shape)\n",
    "# file_path = '/u/f/fbarone/Documents/patches_analysis/73000/densenet_1024_256x256.txt'\n",
    "# with open(file_path, 'w') as file: \n",
    "#     np.savetxt(file, features.numpy())\n"
   ]
  },
  {
   "cell_type": "markdown",
   "metadata": {},
   "source": [
    "### Load features"
   ]
  },
  {
   "cell_type": "code",
   "execution_count": null,
   "metadata": {},
   "outputs": [],
   "source": [
    "file_path = '/u/f/fbarone/Documents/patches_analysis/73000/densenet_1024_256x256.txt'\n",
    "with open(file_path, 'r') as file: \n",
    "    features = np.loadtxt(file)\n"
   ]
  },
  {
   "cell_type": "markdown",
   "metadata": {},
   "source": [
    "## Intrinsic Dimension"
   ]
  },
  {
   "cell_type": "code",
   "execution_count": null,
   "metadata": {},
   "outputs": [],
   "source": [
    "import sys\n",
    "sys.path.insert(0,'/u/f/fbarone/Documents/TWO-NN')\n",
    "import id2nn"
   ]
  },
  {
   "cell_type": "markdown",
   "metadata": {},
   "source": [
    "### Activation before linear classifier (ED = 1024)\n",
    "\n",
    "To get the activation before the linear classifier we have to take the output of densenet.feature, activations\\['norm5'\\], and apply an F.adaptive_avg_pool2d + a flatten operation.\n",
    "\n",
    "In numbers:\n",
    "\n",
    "```\n",
    "activation['norm5'] = (n_batch, 1024, 8, 8)\n",
    "F.adaptive_avg_pool2d(out_batch, (1, 1)).view(n_batch, -1) = (n_batch, 1024)\n",
    "```\n",
    "Thus the input of the classifier is of dimension 1024.\n",
    "\n"
   ]
  },
  {
   "cell_type": "code",
   "execution_count": null,
   "metadata": {},
   "outputs": [],
   "source": [
    "np.random.seed(10)\n",
    "\n",
    "blocks_dim, blocks_dim_std, blocks_size, d_mat2 = id2nn.two_nn_block_analysis(features, .9, shuffle = True)\n",
    "\n",
    "# file_path = './activations_alexnet/block_analysis_linear.txt'\n",
    "# with open(file_path, 'wb') as file: \n",
    "#     np.savetxt(file, np.array(blocks_dim))\n",
    "#     np.savetxt(file, np.array(blocks_dim_std))\n"
   ]
  },
  {
   "cell_type": "code",
   "execution_count": null,
   "metadata": {},
   "outputs": [],
   "source": [
    "import matplotlib.pyplot as plt\n",
    "\n",
    "plt.plot(blocks_size, blocks_dim, \"r.-\")\n",
    "plt.errorbar(blocks_size, blocks_dim, fmt = \"r.-\", yerr = np.array(blocks_dim_std))\n",
    "plt.xlabel('block size')\n",
    "plt.ylabel('intrinsic dimension')\n",
    "plt.title('Before classifier [ED = 1024]')\n",
    "plt.show()"
   ]
  },
  {
   "cell_type": "markdown",
   "metadata": {},
   "source": [
    "### ID for input data"
   ]
  },
  {
   "cell_type": "code",
   "execution_count": null,
   "metadata": {},
   "outputs": [],
   "source": [
    "# build data into single numpy array\n",
    "input_data = []\n",
    "for row in patches.data['patch']:\n",
    "    row = np.array(row)\n",
    "#     print(type(row))\n",
    "#     print(row)\n",
    "    input_data.append(row.flatten(-1))\n",
    "    \n",
    "input_data = np.asarray(input_data)\n",
    "input_data.shape\n"
   ]
  },
  {
   "cell_type": "code",
   "execution_count": null,
   "metadata": {},
   "outputs": [],
   "source": [
    "# calculate id\n",
    "blocks_dim_input, blocks_dim_std_input, blocks_size_input, _ = id2nn.two_nn_block_analysis(input_data, .9, shuffle = True)"
   ]
  },
  {
   "cell_type": "code",
   "execution_count": null,
   "metadata": {},
   "outputs": [],
   "source": [
    "plt.errorbar(blocks_size_input, blocks_dim_input, fmt = \"r.-\", yerr = np.array(blocks_dim_std_input))\n",
    "plt.xlabel('block size')\n",
    "plt.ylabel('intrinsic dimension')\n",
    "plt.title('Input data [ED = 256*256]')\n",
    "plt.show()"
   ]
  },
  {
   "cell_type": "markdown",
   "metadata": {},
   "source": [
    "## PCA"
   ]
  },
  {
   "cell_type": "code",
   "execution_count": null,
   "metadata": {},
   "outputs": [],
   "source": [
    "from numpy import linalg as LA\n",
    "from numpy import cov\n",
    "from sklearn import preprocessing\n",
    "from sklearn.decomposition import PCA\n",
    "import matplotlib.pyplot as plt"
   ]
  },
  {
   "cell_type": "code",
   "execution_count": null,
   "metadata": {},
   "outputs": [],
   "source": [
    "x = features\n",
    "\n",
    "print(f'features shape before{x.shape}')\n",
    "# define scaler instance\n",
    "# scaler = preprocessing.StandardScaler()\n",
    "\n",
    "print(features.shape)\n",
    "# features_ts = scaler.fit_transform(features)\n",
    "x_centered = x - np.mean(x, axis=0)\n",
    "\n",
    "\n",
    "# Own implementation (stability error)\n",
    "# cov_mat = cov(x_centered.T)\n",
    "# print(cov_mat.shape)\n",
    "\n",
    "# # Calculate Eigenvectors and Eigenvalues\n",
    "# w, v = LA.eig(cov_mat)\n",
    "# print(\"w:\", w)\n",
    "# # print(\"v:\", v)\n",
    "\n",
    "\n",
    "# Using scipy package\n",
    "\n",
    "\n",
    "# percentage of variance explained\n",
    "# can also use: PCA(n_components=2)\n",
    "pca = PCA(n_components=0.95)\n",
    "x_centered = pca.fit_transform(x_centered)\n",
    "# pca.explained_variance_ are the eigenvalues\n",
    "eigenvalues = pca.explained_variance_ \n",
    "print(len(eigenvalues))\n",
    "# pca.components_ are the eigenvectors\n",
    "# print(pca.components_[1,:])\n",
    "\n",
    "print(f'features shape after{x_centered.shape}')\n",
    "\n",
    "# Plot eigenvalues \n",
    "plt.plot(np.log(eigenvalues), '.')\n",
    "plt.ylabel('Eigenvalue $(\\lambda)$')\n",
    "plt.xlabel('$\\lambda$ number')\n",
    "plt.show()"
   ]
  },
  {
   "cell_type": "markdown",
   "metadata": {},
   "source": [
    "### Save PCA"
   ]
  },
  {
   "cell_type": "code",
   "execution_count": null,
   "metadata": {},
   "outputs": [],
   "source": [
    "# print(features.shape)\n",
    "# file_path = '/u/f/fbarone/Documents/patches_analysis/73000/features_pca_0.95_256x256.txt'\n",
    "# with open(file_path, 'w') as file: \n",
    "#     np.savetxt(file, x_centered)\n",
    "\n",
    "# features = 0\n",
    "# x = 0\n"
   ]
  },
  {
   "cell_type": "markdown",
   "metadata": {},
   "source": [
    "### Load PCA"
   ]
  },
  {
   "cell_type": "code",
   "execution_count": 3,
   "metadata": {},
   "outputs": [],
   "source": [
    "file_path = '/u/f/fbarone/Documents/patches_analysis/73000/features_pca_0.95_256x256.txt'\n",
    "with open(file_path, 'r') as file: \n",
    "    x_centered = np.loadtxt(file)"
   ]
  },
  {
   "cell_type": "code",
   "execution_count": null,
   "metadata": {},
   "outputs": [],
   "source": [
    "fig = plt.figure(figsize = (20,20))\n",
    "plt.plot(x_centered[:,0],x_centered[:,1], '.')\n",
    "x_centered.shape"
   ]
  },
  {
   "cell_type": "markdown",
   "metadata": {},
   "source": [
    "## TSNE"
   ]
  },
  {
   "cell_type": "code",
   "execution_count": 4,
   "metadata": {},
   "outputs": [],
   "source": [
    "import numpy as np\n",
    "from sklearn.manifold import TSNE"
   ]
  },
  {
   "cell_type": "markdown",
   "metadata": {},
   "source": [
    "### Random sampling of data points.\n",
    "It is needed because TSNE is too slow to work with 70000 data points."
   ]
  },
  {
   "cell_type": "code",
   "execution_count": 5,
   "metadata": {},
   "outputs": [
    {
     "data": {
      "text/plain": [
       "(2800, 100)"
      ]
     },
     "execution_count": 5,
     "metadata": {},
     "output_type": "execute_result"
    }
   ],
   "source": [
    "# reduce the data points \n",
    "np.random.seed(10)\n",
    "rand_idxs = np.random.choice(len(x_centered), 2800, replace = False)\n",
    "x_centered_sample = x_centered[rand_idxs]\n",
    "x_centered_sample.shape"
   ]
  },
  {
   "cell_type": "code",
   "execution_count": 11,
   "metadata": {},
   "outputs": [
    {
     "data": {
      "text/plain": [
       "(2800, 2)"
      ]
     },
     "execution_count": 11,
     "metadata": {},
     "output_type": "execute_result"
    }
   ],
   "source": [
    "# TSNE transformation\n",
    "x_embedded = TSNE(n_components=2, perplexity = 100).fit_transform(x_centered_sample)\n",
    "x_embedded.shape"
   ]
  },
  {
   "cell_type": "code",
   "execution_count": 7,
   "metadata": {},
   "outputs": [
    {
     "data": {
      "text/plain": [
       "<matplotlib.collections.PathCollection at 0x7fa41a7869e8>"
      ]
     },
     "execution_count": 7,
     "metadata": {},
     "output_type": "execute_result"
    },
    {
     "data": {
      "image/png": "[encoded data removed]",
      "text/plain": [
       "<Figure size 720x720 with 1 Axes>"
      ]
     },
     "metadata": {
      "needs_background": "light"
     },
     "output_type": "display_data"
    }
   ],
   "source": [
    "plt.figure(figsize=(10,10))\n",
    "plt.scatter(x_embedded[:,0],x_embedded[:,1])"
   ]
  },
  {
   "cell_type": "markdown",
   "metadata": {},
   "source": [
    "## K-Means"
   ]
  },
  {
   "cell_type": "code",
   "execution_count": 8,
   "metadata": {},
   "outputs": [],
   "source": [
    "file_path = '/u/f/fbarone/Documents/patches_analysis/73000/features_pca_0.95_256x256.txt'\n",
    "with open(file_path, 'r') as file: \n",
    "    X = np.loadtxt(file)\n"
   ]
  },
  {
   "cell_type": "code",
   "execution_count": 9,
   "metadata": {},
   "outputs": [],
   "source": [
    "from sklearn.cluster import KMeans"
   ]
  },
  {
   "cell_type": "code",
   "execution_count": 10,
   "metadata": {},
   "outputs": [
    {
     "data": {
      "text/plain": [
       "<matplotlib.collections.PathCollection at 0x7fa3f168cda0>"
      ]
     },
     "execution_count": 10,
     "metadata": {},
     "output_type": "execute_result"
    },
    {
     "data": {
      "image/png": "[encoded data removed]",
      "text/plain": [
       "<Figure size 432x288 with 1 Axes>"
      ]
     },
     "metadata": {
      "needs_background": "light"
     },
     "output_type": "display_data"
    }
   ],
   "source": [
    "kmeans = KMeans(n_clusters=2).fit(X)\n",
    "plt.scatter(X[:,0], X[:,1], c = kmeans.labels_)"
   ]
  },
  {
   "cell_type": "code",
   "execution_count": null,
   "metadata": {},
   "outputs": [],
   "source": [
    "data =  patches.data['patch']"
   ]
  },
  {
   "cell_type": "code",
   "execution_count": null,
   "metadata": {},
   "outputs": [],
   "source": [
    "num_patches = 40\n",
    "cluster = 0\n",
    "fig = plt.figure(figsize = (20,30))\n",
    "cols = 5\n",
    "rows = num_patches//cols + 1\n",
    "for i,patch in enumerate(data[kmeans.labels_ == cluster][:num_patches]):\n",
    "    ax = fig.add_subplot(rows, cols, i+1)\n",
    "    ax.imshow(patch)\n",
    "plt.show()"
   ]
  }
 ],
 "metadata": {
  "kernelspec": {
   "display_name": "Python 3",
   "language": "python",
   "name": "python3"
  },
  "language_info": {
   "codemirror_mode": {
    "name": "ipython",
    "version": 3
   },
   "file_extension": ".py",
   "mimetype": "text/x-python",
   "name": "python",
   "nbconvert_exporter": "python",
   "pygments_lexer": "ipython3",
   "version": "3.7.3"
  }
 },
 "nbformat": 4,
 "nbformat_minor": 2
}
